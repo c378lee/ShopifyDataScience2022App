{
 "cells": [
  {
   "cell_type": "markdown",
   "id": "909d16d6",
   "metadata": {},
   "source": [
    "# Question 1\n",
    "\n",
    "Given some sample data, write a program to answer the following: click here to access the required data set\n",
    "\n",
    "On Shopify, we have exactly 100 sneaker shops, and each of these shops sells only one model of shoe. We want to do some analysis of the average order value (AOV). When we look at orders data over a 30 day window, we naively calculate an AOV of $3145.13. Given that we know these shops are selling sneakers, a relatively affordable item, something seems wrong with our analysis. \n",
    "\n",
    "a.\tThink about what could be going wrong with our calculation. Think about a better way to evaluate this data.  \n",
    "    Extreme outliers buying 2000 shoes in one transaction. Trim out the extreme outliers.  \n",
    "b.\tWhat metric would you report for this dataset?  \n",
    "    Trimmed Average Order Value (TAOV)  \n",
    "c.\tWhat is its value?  \n",
    "    $301.06      "
   ]
  },
  {
   "cell_type": "markdown",
   "id": "72236f0c",
   "metadata": {},
   "source": [
    "## Part A\n",
    "\n",
    "First, we need to observe the data to see what is wrong with a calculated value of $3145.13 for the AOV. We use the pandas package to read the .csv file and look at an overview of the dataset using the .describe() function."
   ]
  },
  {
   "cell_type": "code",
   "execution_count": 1,
   "id": "afb8fd92",
   "metadata": {},
   "outputs": [
    {
     "name": "stdout",
     "output_type": "stream",
     "text": [
      "          order_id      shop_id      user_id   order_amount  total_items\n",
      "count  5000.000000  5000.000000  5000.000000    5000.000000   5000.00000\n",
      "mean   2500.500000    50.078800   849.092400    3145.128000      8.78720\n",
      "std    1443.520003    29.006118    87.798982   41282.539349    116.32032\n",
      "min       1.000000     1.000000   607.000000      90.000000      1.00000\n",
      "25%    1250.750000    24.000000   775.000000     163.000000      1.00000\n",
      "50%    2500.500000    50.000000   849.000000     284.000000      2.00000\n",
      "75%    3750.250000    75.000000   925.000000     390.000000      3.00000\n",
      "max    5000.000000   100.000000   999.000000  704000.000000   2000.00000\n"
     ]
    }
   ],
   "source": [
    "from matplotlib import pyplot as plt\n",
    "import numpy as np\n",
    "import pandas as pd\n",
    "\n",
    "sheet_url = \"https://docs.google.com/spreadsheets/d/16i38oonuX1y1g7C_UAmiK9GkY7cS-64DfiDMNiR41LM/edit#gid=0\"\n",
    "url = sheet_url.replace('/edit#gid=', '/export?format=csv&gid=')\n",
    "\n",
    "sneakers = pd.read_csv(url)\n",
    "print(sneakers.describe())"
   ]
  },
  {
   "cell_type": "markdown",
   "id": "1db17fcf",
   "metadata": {},
   "source": [
    "The order_id, shop_id, user_id seem pretty normal, but once we get to the order_amount and the total_items, we see what is causing the AOV to be well over \\\\$3000. There are some huge outliers where the median sale sells two pair of shoes, but some sales are selling 2000 units at a time for $704000.00!"
   ]
  },
  {
   "cell_type": "code",
   "execution_count": 2,
   "id": "ebe887d1",
   "metadata": {},
   "outputs": [
    {
     "name": "stdout",
     "output_type": "stream",
     "text": [
      "17.065556010529033\n",
      "16.675033432503792\n"
     ]
    }
   ],
   "source": [
    "print(sneakers['total_items'].skew())\n",
    "print(sneakers['order_amount'].skew())"
   ]
  },
  {
   "cell_type": "markdown",
   "id": "be3f0dcb",
   "metadata": {},
   "source": [
    "Even looking at the skewness of the total_items and order_amount, we see a strong right skew with this dataset.\n",
    "\n",
    "The AOV of $3145.13 is simply a mean of the order_amount with the outliers included in the calculation. A more accurate, representative number would be somewhere closer to the median where it sits in the 50th percentile of the order_amount. Another method would be obtain a better metric for AOV would be to trim the data to exclude the extreme outliers.\n",
    "\n",
    "But first, we want to visualize and identify the extent the outliers are affecting the AOV. The first boxplot below shows an outlier with close to 2000 items sold in a single transaction."
   ]
  },
  {
   "cell_type": "code",
   "execution_count": 3,
   "id": "4f79c842",
   "metadata": {},
   "outputs": [
    {
     "data": {
      "image/png": "[encoded data removed]",
      "text/plain": [
       "<Figure size 432x288 with 1 Axes>"
      ]
     },
     "metadata": {
      "needs_background": "light"
     },
     "output_type": "display_data"
    }
   ],
   "source": [
    "plt.boxplot(sneakers['total_items'])\n",
    "plt.show()"
   ]
  },
  {
   "cell_type": "markdown",
   "id": "7ad9974a",
   "metadata": {},
   "source": [
    "The second boxplot below shows the dollar amount outliers, also with a huge outlier at around the $700000 range, but more outliers around the $10000 range.\n",
    "\n",
    "Since we want to exclude any extreme outliers that would misrepresent the AOV, we will focus on the order_amount since there seems to have more outliers present."
   ]
  },
  {
   "cell_type": "code",
   "execution_count": 4,
   "id": "4a3288a7",
   "metadata": {},
   "outputs": [
    {
     "data": {
      "image/png": "[encoded data removed]",
      "text/plain": [
       "<Figure size 432x288 with 1 Axes>"
      ]
     },
     "metadata": {
      "needs_background": "light"
     },
     "output_type": "display_data"
    }
   ],
   "source": [
    "plt.boxplot(sneakers['order_amount'])\n",
    "plt.show()"
   ]
  },
  {
   "cell_type": "markdown",
   "id": "8ff19c0e",
   "metadata": {},
   "source": [
    "The below histograms with total_items and order_amount repeat what we have discussed regarding outliers. They are here simply to emphasize the presence of outliers in the dataset."
   ]
  },
  {
   "cell_type": "code",
   "execution_count": 5,
   "id": "7a4d2a09",
   "metadata": {},
   "outputs": [
    {
     "data": {
      "text/plain": [
       "<AxesSubplot:>"
      ]
     },
     "execution_count": 5,
     "metadata": {},
     "output_type": "execute_result"
    },
    {
     "data": {
      "image/png": "[encoded data removed]",
      "text/plain": [
       "<Figure size 432x288 with 1 Axes>"
      ]
     },
     "metadata": {
      "needs_background": "light"
     },
     "output_type": "display_data"
    }
   ],
   "source": [
    "sneakers.total_items.hist()"
   ]
  },
  {
   "cell_type": "code",
   "execution_count": 6,
   "id": "af5d0ee4",
   "metadata": {},
   "outputs": [
    {
     "data": {
      "text/plain": [
       "<AxesSubplot:>"
      ]
     },
     "execution_count": 6,
     "metadata": {},
     "output_type": "execute_result"
    },
    {
     "data": {
      "image/png": "[encoded data removed]",
      "text/plain": [
       "<Figure size 432x288 with 1 Axes>"
      ]
     },
     "metadata": {
      "needs_background": "light"
     },
     "output_type": "display_data"
    }
   ],
   "source": [
    "sneakers.order_amount.hist()"
   ]
  },
  {
   "cell_type": "markdown",
   "id": "1f28cd0d",
   "metadata": {},
   "source": [
    "A scatterplot of order_amount and total_items below shows how much of our data is clustered except for the orders with 2000 shoes sold in one transaction."
   ]
  },
  {
   "cell_type": "code",
   "execution_count": 7,
   "id": "98f85447",
   "metadata": {},
   "outputs": [
    {
     "data": {
      "image/png": "[encoded data removed]",
      "text/plain": [
       "<Figure size 864x432 with 1 Axes>"
      ]
     },
     "metadata": {
      "needs_background": "light"
     },
     "output_type": "display_data"
    }
   ],
   "source": [
    "fig, ax = plt.subplots(figsize=(12,6))\n",
    "ax.scatter(sneakers['total_items'], sneakers['order_amount'])\n",
    "ax.set_xlabel('Number of Shoes Ordered')\n",
    "ax.set_ylabel('Order Amount in Dollars($)')\n",
    "plt.show()"
   ]
  },
  {
   "cell_type": "markdown",
   "id": "a5925ef3",
   "metadata": {},
   "source": [
    "We want to trim as little data as possible, so I calculate the 95th, 98th, and the 99th percentile of the order_amount to determine an appopriate cutoff. At the 98th percentile, the shoes are sold at \\\\$800.08, a much more reasonable price for shoe transactions compared to the 99th percentile, $25725.00."
   ]
  },
  {
   "cell_type": "code",
   "execution_count": 8,
   "id": "7cd6ac96",
   "metadata": {},
   "outputs": [
    {
     "name": "stdout",
     "output_type": "stream",
     "text": [
      "640.0\n",
      "800.0799999999981\n",
      "25725.0\n"
     ]
    }
   ],
   "source": [
    "print(sneakers['order_amount'].quantile(0.95))\n",
    "print(sneakers['order_amount'].quantile(0.98))\n",
    "print(sneakers['order_amount'].quantile(0.99))"
   ]
  },
  {
   "cell_type": "markdown",
   "id": "566f78cc",
   "metadata": {},
   "source": [
    "With the 98th percentile of order_amount at around \\\\$800, I set an index within the dataset that exceeds $1000 for order_amount. Those observations in the dataset are then dropped to be excluded as previously mentioned."
   ]
  },
  {
   "cell_type": "code",
   "execution_count": 9,
   "id": "eead69fa",
   "metadata": {},
   "outputs": [
    {
     "name": "stdout",
     "output_type": "stream",
     "text": [
      "          order_id      shop_id      user_id  order_amount  total_items\n",
      "count  4929.000000  4929.000000  4929.000000   4929.000000  4929.000000\n",
      "mean   2499.687158    49.856563   849.803408    301.064313     1.990667\n",
      "std    1444.461268    29.083196    86.859493    156.151226     0.976133\n",
      "min       1.000000     1.000000   700.000000     90.000000     1.000000\n",
      "25%    1247.000000    24.000000   775.000000    163.000000     1.000000\n",
      "50%    2497.000000    50.000000   850.000000    284.000000     2.000000\n",
      "75%    3752.000000    74.000000   925.000000    387.000000     3.000000\n",
      "max    5000.000000   100.000000   999.000000    980.000000     6.000000\n"
     ]
    }
   ],
   "source": [
    "index = sneakers[(sneakers['order_amount'] > 1000)].index\n",
    "sneakers.drop(index, inplace = True)\n",
    "print(sneakers.describe())"
   ]
  },
  {
   "cell_type": "markdown",
   "id": "2300f1bc",
   "metadata": {},
   "source": [
    "We lose less than 100 observations but we have a much more accurate mean at \\\\$301.06 with the median relatively unchanged at $281.00"
   ]
  },
  {
   "cell_type": "code",
   "execution_count": 11,
   "id": "7350bc25",
   "metadata": {},
   "outputs": [
    {
     "name": "stdout",
     "output_type": "stream",
     "text": [
      "0.9724536592632975\n"
     ]
    },
    {
     "data": {
      "text/plain": [
       "{'whiskers': [<matplotlib.lines.Line2D at 0x21ceee70e20>,\n",
       "  <matplotlib.lines.Line2D at 0x21ceee81130>],\n",
       " 'caps': [<matplotlib.lines.Line2D at 0x21ceee81400>,\n",
       "  <matplotlib.lines.Line2D at 0x21ceee816d0>],\n",
       " 'boxes': [<matplotlib.lines.Line2D at 0x21ceee70b20>],\n",
       " 'medians': [<matplotlib.lines.Line2D at 0x21ceee819d0>],\n",
       " 'fliers': [<matplotlib.lines.Line2D at 0x21ceee81ca0>],\n",
       " 'means': []}"
      ]
     },
     "execution_count": 11,
     "metadata": {},
     "output_type": "execute_result"
    },
    {
     "data": {
      "image/png": "[encoded data removed]",
      "text/plain": [
       "<Figure size 432x288 with 1 Axes>"
      ]
     },
     "metadata": {
      "needs_background": "light"
     },
     "output_type": "display_data"
    }
   ],
   "source": [
    "print(sneakers['order_amount'].skew())\n",
    "plt.boxplot(sneakers['order_amount'])"
   ]
  },
  {
   "cell_type": "markdown",
   "id": "72bfbbd2",
   "metadata": {},
   "source": [
    "## Part B\n",
    "\n",
    "The metric I would use would still be the average of the sales data, but with the most extreme outliers removed. The Trimmed Average Order Value (TAOV) will still provide an accurate representation of the shoe sales data with losing too much data.\n"
   ]
  },
  {
   "cell_type": "markdown",
   "id": "1b0bf44d",
   "metadata": {},
   "source": [
    "## Part C\n",
    "\n",
    "The TAOV calculated by removing the top 2 percentile of order_amount is $301.06. "
   ]
  },
  {
   "cell_type": "markdown",
   "id": "282c14d6",
   "metadata": {},
   "source": [
    "# Question 2\n",
    "\n",
    "For this question you’ll need to use SQL. Follow this link to access the data set required for the challenge. Please use queries to answer the following questions. Paste your queries along with your final numerical answers below.\n",
    "\n",
    "a.\tHow many orders were shipped by Speedy Express in total?  \n",
    "b.\tWhat is the last name of the employee with the most orders?  \n",
    "c.\tWhat product was ordered the most by customers in Germany?  \n"
   ]
  },
  {
   "cell_type": "markdown",
   "id": "344bc5de",
   "metadata": {},
   "source": [
    "## Part A\n",
    "SELECT COUNT (*) AS OrderShipped  \n",
    "FROM Orders  \n",
    "INNER JOIN Shippers  \n",
    "ON Shippers.ShipperID = Orders.ShipperID  \n",
    "WHERE ShipperName='Speedy Express'\n",
    "\n",
    "OrderShipped\n",
    "54 "
   ]
  },
  {
   "cell_type": "markdown",
   "id": "c9f01e39",
   "metadata": {},
   "source": [
    "## Part B\n",
    "\n",
    "SELECT Employees.LastName, COUNT(Orders.EmployeeID) AS OrderCount  \n",
    "FROM Orders  \n",
    "INNER JOIN Employees ON Orders.EmployeeID = Employees.EmployeeID  \n",
    "GROUP BY LastName  \n",
    "ORDER BY COUNT(LastName) DESC  \n",
    "\n",
    "Peacock"
   ]
  },
  {
   "cell_type": "markdown",
   "id": "5a4f4c37",
   "metadata": {},
   "source": [
    "## Part C\n",
    "\n",
    "SELECT Products.ProductName  \n",
    "FROM Orders  \n",
    "JOIN Customers ON Customers.CustomerID = Orders.CustomerID  \n",
    "JOIN OrderDetails ON OrderDetails.OrderID = Orders.OrderID  \n",
    "JOIN Products ON Products.ProductID = OrderDetails.ProductID  \n",
    "WHERE Customers.Country = 'Germany'  \n",
    "GROUP BY OrderDetails.ProductID  \n",
    "ORDER BY ProductID DESC  \n",
    "\n",
    "Boston Crab Meat"
   ]
  }
 ],
 "metadata": {
  "kernelspec": {
   "display_name": "Python 3 (ipykernel)",
   "language": "python",
   "name": "python3"
  },
  "language_info": {
   "codemirror_mode": {
    "name": "ipython",
    "version": 3
   },
   "file_extension": ".py",
   "mimetype": "text/x-python",
   "name": "python",
   "nbconvert_exporter": "python",
   "pygments_lexer": "ipython3",
   "version": "3.8.8"
  }
 },
 "nbformat": 4,
 "nbformat_minor": 5
}
